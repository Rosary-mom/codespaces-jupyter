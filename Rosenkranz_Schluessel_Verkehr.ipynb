{
 "nbformat": 4,
 "nbformat_minor": 5,
 "metadata": {
  "kernelspec": {
   "display_name": "Python 3",
   "language": "python",
   "name": "python3"
  },
  "language_info": {
   "name": "python"
  }
 },
 "cells": [
  {
   "cell_type": "markdown",
   "source": [
    "# Rosenkranz-Schlüssel: Interaktive Q-Simulation für Verkehrssicherheit\n",
    "\n",
    "Diese Simulation optimiert Risikofaktoren (z.B. Dichte, Geschwindigkeit) mit Q-Learning-Approximation. Passe Parameter mit Sliders an und unlocke 'Schlüssel' für sichere Routen.\n",
    "\n",
    "**Basierend auf früherem Code (z.B. aus Q-Simulation_verkehr.py), fixed und erweitert.**"
   ]
  },
  {
   "cell_type": "code",
   "source": [
    "import numpy as np\n",
    "import matplotlib.pyplot as plt\n",
    "from ipywidgets import interact, FloatSlider, IntSlider\n",
    "# Optional: Import aus bestehender Datei (falls relevant)\n",
    "# %run ./Q-Simulation_verkehr.py  # Uncomment, wenn Funktionen reuse"
   ]
  },
  {
   "cell_type": "code",
   "source": [
    "# Kernfunktionen (fixed: Definierte Vars, korrigierte Logik)\n",
    "def skalenvariant_reichweite(risiko):\n",
    "    return np.sqrt(1 / risiko)  # Skalenvariante Reichweite (z.B. Sicht in Nebel)\n",
    "\n",
    "def uberlebens_konstante(Q, risiko_factor, K=1.0):\n",
    "    return K * (Q / risiko_factor)  # Konstante für Überlebenswahrscheinlichkeit\n",
    "\n",
    "def rosenkranz_approximation(Q_start, iterations, unsicherheit=0.1):\n",
    "    Q_approx = Q_start\n",
    "    for i in range(1, iterations + 1):\n",
    "        Q_approx += ((-1)**(i+1) * (unsicherheit**i / i))  # Alternierende Serie für Approx (inspiriert von ln(1+x))\n",
    "    return Q_approx"
   ]
  },
  {
   "cell_type": "code",
   "source": [
    "# Interaktive Simulation (Sliders für Verkehrs-Params, Unlock-Logik)\n",
    "@interact(\n",
    "    samples=IntSlider(min=50, max=500, step=50, value=100, description='Samples:'),\n",
    "    min_risiko=FloatSlider(min=0.01, max=0.2, step=0.01, value=0.05, description='Min Risiko (Dichte):'),\n",
    "    max_risiko=FloatSlider(min=0.3, max=1.0, step=0.05, value=0.5, description='Max Risiko (Dichte):'),\n",
    "    iterations=IntSlider(min=5, max=50, step=5, value=10, description='Iterationen:'),\n",
    "    unsicherheit=FloatSlider(min=0.05, max=0.5, step=0.05, value=0.1, description='Unsicherheit:')\n",
    ")\n",
    "def simulate_rosenkranz_schluessel(samples, min_risiko, max_risiko, iterations, unsicherheit):\n",
    "    scale = np.linspace(1, 100, samples)  # Skala: z.B. Geschwindigkeit km/h\n",
    "    risikofaktor = np.random.uniform(min_risiko, max_risiko, samples)  # Risiko: z.B. Verkehrsdichte\n",
    "    Q_start = 1.0  # Initial-Q\n",
    "    Q_werte = []\n",
    "    for s, risiko in zip(scale, risikofaktor):\n",
    "        reichweite = skalenvariant_reichweite(risiko)\n",
    "        Q_basis = uberlebens_konstante(Q_start, risiko)\n",
    "        Q_optim = rosenkranz_approximation(Q_basis, iterations, unsicherheit)\n",
    "        Q_werte.append(Q_optim * (s / 100))  # Skaliere für Realismus\n",
    "    \n",
    "    plt.figure(figsize=(12, 6))\n",
    "    plt.plot(scale, Q_werte, 'b-', label='Optimierter Q-Schlüssel')\n",
    "    plt.xlabel('Geschwindigkeit/Skala (km/h)')\n",
    "    plt.ylabel('Q-Wert (Sicherheit)')\n",
    "    plt.title('Rosenkranz-Schlüssel: Verkehrsrisiko-Optimierung')\n",
    "    plt.legend()\n",
    "    plt.grid(True)\n",
    "    plt.show()\n",
    "    \n",
    "    mean_Q = np.mean(Q_werte)\n",
    "    print(f'Durchschnittlicher Q-Schlüssel: {mean_Q:.2f}')\n",
    "    if mean_Q > 10:\n",
    "        print('Schlüssel unlocked: Sichere Route/Ampel freigeschaltet!')\n",
    "    else:\n",
    "        print('Schlüssel locked: Risiko zu hoch – optimiere!')"
   ]
  }
 ]
}

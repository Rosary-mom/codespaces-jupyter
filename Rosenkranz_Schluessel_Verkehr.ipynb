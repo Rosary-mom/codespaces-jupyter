{
 "cells": [
  {
   "cell_type": "markdown",
   "source": [
    "# Rosenkranz-Schlüssel: Q-Simulation für Verkehrssicherheit\n",
    "Interaktive Optimierung von Risikofaktoren mit Sliders. Basierend auf früherem Code, fixed und erweitert."
   ]
  },
  {
   "cell_type": "code",
   "source": [
    "import numpy as np\n",
    "import matplotlib.pyplot as plt\n",
    "from ipywidgets import interact, FloatSlider, IntSlider\n",
    "import torch  # Falls ML-Elemente später hinzukommen (aus requirements.txt)"
   ]
  },
  {
   "cell_type": "code",
   "source": [
    "# Fixed Funktionen aus dem alten Code\n",
    "def skalenvariant_reichweite(risiko):\n",
    "    return np.sqrt(1 / risiko)  # Proxy für Reichweite in Verkehrs-Skalen\n",
    "\n",
    "def uberlebens_konstante(Q, risiko_factor, K=1.0):\n",
    "    return K * (Q / risiko_factor)  # Erweiterte Konstante\n",
    "\n",
    "def rosenkranz_approximation(Q_start, iterations, unsicherheit=0.1):\n",
    "    Q_approx = Q_start\n",
    "    for i in range(1, iterations + 1):\n",
    "        Q_approx += ((-1)**(i+1) * (unsicherheit**i / i))  # Korrigierte alternierende Serie für bessere Konvergenz\n",
    "    return Q_approx"
   ]
  },
  {
   "cell_type": "code",
   "source": [
    "# Interaktive Sim mit Sliders (Verkehrs-Params: Dichte als Risiko, Geschwindigkeit als Skala)\n",
    "@interact(\n",
    "    samples=IntSlider(min=50, max=500, step=50, value=100, description='Samples:'),\n",
    "    min_risiko=FloatSlider(min=0.01, max=0.2, step=0.01, value=0.05, description='Min Dichte/Risiko:'),\n",
    "    max_risiko=FloatSlider(min=0.3, max=1.0, step=0.05, value=0.5, description='Max Dichte/Risiko:'),\n",
    "    iterations=IntSlider(min=5, max=50, step=5, value=10, description='Q-Iterationen:'),\n",
    "    unsicherheit=FloatSlider(min=0.05, max=0.5, step=0.05, value=0.1, description='Unsicherheit (z.B. Nebel):')\n",
    ")\n",
    "def simulate_verkehr_schluessel(samples, min_risiko, max_risiko, iterations, unsicherheit):\n",
    "    scale = np.linspace(1, 100, samples)  # Skalen: z.B. Geschwindigkeit km/h\n",
    "    risikofaktor = np.random.uniform(min_risiko, max_risiko, samples)  # Risiko: z.B. Verkehrsdichte\n",
    "    Q_start = 1.0  # Initialer Q-Wert\n",
    "    Q_werte = []\n",
    "    for s, risiko in zip(scale, risikofaktor):\n",
    "        reichweite = skalenvariant_reichweite(risiko)\n",
    "        Q_basis = uberlebens_konstante(Q_start, risiko)\n",
    "        Q_optim = rosenkranz_approximation(Q_basis, iterations, unsicherheit)\n",
    "        Q_werte.append(Q_optim * s / 100)  # Skaliere mit Geschwindigkeit für Realismus\n",
    "    \n",
    "    plt.figure(figsize=(12, 6))\n",
    "    plt.plot(scale, Q_werte, label='Optimierter Q-Schlüssel (Sicherheit)')\n",
    "    plt.xlabel('Geschwindigkeit/Skala (km/h)')\n",
    "    plt.ylabel('Q-Wert (Überlebenswahrscheinlichkeit)')\n",
    "    plt.title('Rosenkranz-Schlüssel: Verkehrsrisiko-Optimierung')\n",
    "    plt.legend()\n",
    "    plt.grid(True)\n",
    "    plt.show()\n",
    "    \n",
    "    mean_Q = np.mean(Q_werte)\n",
    "    print(f'Durchschnittlicher Q-Schlüssel: {mean_Q:.2f}')\n",
    "    if mean_Q > 10:\n",
    "        print('Schlüssel unlocked: Optimale Ampel/Route freigeschaltet – sichere Fahrt!')\n",
    "    else:\n",
    "        print('Schlüssel locked: Risiko hoch – reduziere Dichte oder Iterationen.')"
   ]
  }
 ],
 "metadata": {
  "kernelspec": {
   "display_name": "Python 3",
   "language": "python",
   "name": "python3"
  }
 }
}
